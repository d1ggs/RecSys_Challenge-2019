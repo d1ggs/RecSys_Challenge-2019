{
 "cells": [
  {
   "cell_type": "code",
   "execution_count": null,
   "metadata": {},
   "outputs": [],
   "source": [
    "from SLIMElasticNetRecommender import SLIMElasticNetRecommender\n",
    "from utils.helper import Helper\n",
    "\n",
    "slim = SLIMElasticNetRecommender\n",
    "parameters = [#{\"l1_ratio\":0, \"positive_only\":True, \"topK\" : 1000},\n",
    "              {\"l1_ratio\": 0.001, \"positive_only\": True, \"topK\": 1000},\n",
    "              {\"l1_ratio\": 0.01, \"positive_only\": True, \"topK\": 1000},\n",
    "              {\"l1_ratio\": 0.1, \"positive_only\": True, \"topK\": 1000}\n",
    "              ]\n",
    "\n",
    "map_10 = []\n",
    "\n",
    "for param in parameters:\n",
    "    map_10.append(RunRecommender.evaluate_on_test_set(slim, param))\n",
    "\n",
    "import matplotlib.pyplot as plt\n",
    "plt.plot(map_10)\n",
    "plt.xlabel(\"Parameter set\")\n",
    "plt.ylabel(\"MAP@10 score\")\n",
    "plt.title(\"l1_ratio\")\n",
    "\n",
    "print(max(map_10))"
   ]
  }
 ],
 "metadata": {
  "kernelspec": {
   "display_name": "'Python Interactive'",
   "language": "python",
   "name": "79f57f16-a5df-490b-9707-232c36dfcf69"
  },
  "language_info": {
   "codemirror_mode": {
    "name": "ipython",
    "version": 3
   },
   "file_extension": ".py",
   "mimetype": "text/x-python",
   "name": "python",
   "nbconvert_exporter": "python",
   "pygments_lexer": "ipython3",
   "version": "3.7.4"
  }
 },
 "nbformat": 4,
 "nbformat_minor": 2
}
